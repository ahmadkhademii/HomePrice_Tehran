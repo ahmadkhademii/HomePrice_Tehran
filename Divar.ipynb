{
 "cells": [
  {
   "cell_type": "code",
   "execution_count": 1,
   "id": "98e8fbf0",
   "metadata": {},
   "outputs": [],
   "source": [
    "import numpy as np\n",
    "import pandas as pd\n",
    "import seaborn as sns\n",
    "import matplotlib.pyplot as plt "
   ]
  },
  {
   "cell_type": "code",
   "execution_count": 2,
   "id": "e13e4186",
   "metadata": {},
   "outputs": [],
   "source": [
    "divar_df = pd.read_csv('DivarFinal.csv', encoding='utf-8')"
   ]
  },
  {
   "cell_type": "code",
   "execution_count": 3,
   "id": "73bb2fa8",
   "metadata": {},
   "outputs": [
    {
     "data": {
      "text/html": [
       "<div>\n",
       "<style scoped>\n",
       "    .dataframe tbody tr th:only-of-type {\n",
       "        vertical-align: middle;\n",
       "    }\n",
       "\n",
       "    .dataframe tbody tr th {\n",
       "        vertical-align: top;\n",
       "    }\n",
       "\n",
       "    .dataframe thead th {\n",
       "        text-align: right;\n",
       "    }\n",
       "</style>\n",
       "<table border=\"1\" class=\"dataframe\">\n",
       "  <thead>\n",
       "    <tr style=\"text-align: right;\">\n",
       "      <th></th>\n",
       "      <th>Address</th>\n",
       "      <th>Area</th>\n",
       "      <th>Year</th>\n",
       "      <th>Number Of Room</th>\n",
       "      <th>Price</th>\n",
       "      <th>Price per meter</th>\n",
       "      <th>Floor</th>\n",
       "      <th>Elevator</th>\n",
       "      <th>Parking</th>\n",
       "      <th>Warehouse</th>\n",
       "    </tr>\n",
       "  </thead>\n",
       "  <tbody>\n",
       "    <tr>\n",
       "      <th>0</th>\n",
       "      <td>کوی بیمه</td>\n",
       "      <td>105</td>\n",
       "      <td>1395</td>\n",
       "      <td>2</td>\n",
       "      <td>4100000000</td>\n",
       "      <td>39048000</td>\n",
       "      <td>4</td>\n",
       "      <td>1</td>\n",
       "      <td>1</td>\n",
       "      <td>1</td>\n",
       "    </tr>\n",
       "    <tr>\n",
       "      <th>1</th>\n",
       "      <td>فرمانیه</td>\n",
       "      <td>755</td>\n",
       "      <td>1398</td>\n",
       "      <td>4</td>\n",
       "      <td>150000000000</td>\n",
       "      <td>198675000</td>\n",
       "      <td>10</td>\n",
       "      <td>1</td>\n",
       "      <td>1</td>\n",
       "      <td>1</td>\n",
       "    </tr>\n",
       "    <tr>\n",
       "      <th>2</th>\n",
       "      <td>پونک</td>\n",
       "      <td>68</td>\n",
       "      <td>1381</td>\n",
       "      <td>2</td>\n",
       "      <td>2460000000</td>\n",
       "      <td>36176000</td>\n",
       "      <td>1</td>\n",
       "      <td>0</td>\n",
       "      <td>1</td>\n",
       "      <td>1</td>\n",
       "    </tr>\n",
       "    <tr>\n",
       "      <th>3</th>\n",
       "      <td>کوی بیمه</td>\n",
       "      <td>88</td>\n",
       "      <td>1396</td>\n",
       "      <td>2</td>\n",
       "      <td>3200000000</td>\n",
       "      <td>36364000</td>\n",
       "      <td>5</td>\n",
       "      <td>1</td>\n",
       "      <td>1</td>\n",
       "      <td>1</td>\n",
       "    </tr>\n",
       "    <tr>\n",
       "      <th>4</th>\n",
       "      <td>پردیس</td>\n",
       "      <td>135</td>\n",
       "      <td>1398</td>\n",
       "      <td>3</td>\n",
       "      <td>2500000000</td>\n",
       "      <td>18519000</td>\n",
       "      <td>0</td>\n",
       "      <td>1</td>\n",
       "      <td>1</td>\n",
       "      <td>1</td>\n",
       "    </tr>\n",
       "  </tbody>\n",
       "</table>\n",
       "</div>"
      ],
      "text/plain": [
       "    Address  Area  Year Number Of Room         Price  Price per meter Floor  \\\n",
       "0  کوی بیمه   105  1395              2    4100000000         39048000     4   \n",
       "1   فرمانیه   755  1398              4  150000000000        198675000    10   \n",
       "2      پونک    68  1381              2    2460000000         36176000     1   \n",
       "3  کوی بیمه    88  1396              2    3200000000         36364000     5   \n",
       "4     پردیس   135  1398              3    2500000000         18519000     0   \n",
       "\n",
       "   Elevator  Parking  Warehouse  \n",
       "0         1        1          1  \n",
       "1         1        1          1  \n",
       "2         0        1          1  \n",
       "3         1        1          1  \n",
       "4         1        1          1  "
      ]
     },
     "execution_count": 3,
     "metadata": {},
     "output_type": "execute_result"
    }
   ],
   "source": [
    "divar_df.head()"
   ]
  },
  {
   "cell_type": "code",
   "execution_count": 4,
   "id": "6680baed",
   "metadata": {},
   "outputs": [
    {
     "name": "stdout",
     "output_type": "stream",
     "text": [
      "<class 'pandas.core.frame.DataFrame'>\n",
      "RangeIndex: 11099 entries, 0 to 11098\n",
      "Data columns (total 10 columns):\n",
      " #   Column           Non-Null Count  Dtype \n",
      "---  ------           --------------  ----- \n",
      " 0   Address          11099 non-null  object\n",
      " 1   Area             11099 non-null  int64 \n",
      " 2   Year             11099 non-null  int64 \n",
      " 3   Number Of Room   11099 non-null  object\n",
      " 4   Price            11099 non-null  int64 \n",
      " 5   Price per meter  11099 non-null  int64 \n",
      " 6   Floor            11099 non-null  object\n",
      " 7   Elevator         11099 non-null  int64 \n",
      " 8   Parking          11099 non-null  int64 \n",
      " 9   Warehouse        11099 non-null  int64 \n",
      "dtypes: int64(7), object(3)\n",
      "memory usage: 867.2+ KB\n"
     ]
    }
   ],
   "source": [
    "divar_df.info()"
   ]
  },
  {
   "cell_type": "code",
   "execution_count": 5,
   "id": "9ce196d3",
   "metadata": {
    "scrolled": true
   },
   "outputs": [
    {
     "data": {
      "text/html": [
       "<div>\n",
       "<style scoped>\n",
       "    .dataframe tbody tr th:only-of-type {\n",
       "        vertical-align: middle;\n",
       "    }\n",
       "\n",
       "    .dataframe tbody tr th {\n",
       "        vertical-align: top;\n",
       "    }\n",
       "\n",
       "    .dataframe thead th {\n",
       "        text-align: right;\n",
       "    }\n",
       "</style>\n",
       "<table border=\"1\" class=\"dataframe\">\n",
       "  <thead>\n",
       "    <tr style=\"text-align: right;\">\n",
       "      <th></th>\n",
       "      <th>Area</th>\n",
       "      <th>Year</th>\n",
       "      <th>Price</th>\n",
       "      <th>Price per meter</th>\n",
       "      <th>Elevator</th>\n",
       "      <th>Parking</th>\n",
       "      <th>Warehouse</th>\n",
       "    </tr>\n",
       "  </thead>\n",
       "  <tbody>\n",
       "    <tr>\n",
       "      <th>count</th>\n",
       "      <td>11099.000000</td>\n",
       "      <td>11099.000000</td>\n",
       "      <td>1.109900e+04</td>\n",
       "      <td>1.109900e+04</td>\n",
       "      <td>11099.000000</td>\n",
       "      <td>11099.000000</td>\n",
       "      <td>11099.000000</td>\n",
       "    </tr>\n",
       "    <tr>\n",
       "      <th>mean</th>\n",
       "      <td>99.346067</td>\n",
       "      <td>1391.078476</td>\n",
       "      <td>4.795949e+09</td>\n",
       "      <td>3.909941e+07</td>\n",
       "      <td>0.756014</td>\n",
       "      <td>0.801604</td>\n",
       "      <td>0.894405</td>\n",
       "    </tr>\n",
       "    <tr>\n",
       "      <th>std</th>\n",
       "      <td>101.421444</td>\n",
       "      <td>7.463570</td>\n",
       "      <td>9.350471e+09</td>\n",
       "      <td>3.311463e+07</td>\n",
       "      <td>0.429504</td>\n",
       "      <td>0.398810</td>\n",
       "      <td>0.307333</td>\n",
       "    </tr>\n",
       "    <tr>\n",
       "      <th>min</th>\n",
       "      <td>3.000000</td>\n",
       "      <td>1370.000000</td>\n",
       "      <td>1.000000e+08</td>\n",
       "      <td>2.000000e+06</td>\n",
       "      <td>0.000000</td>\n",
       "      <td>0.000000</td>\n",
       "      <td>0.000000</td>\n",
       "    </tr>\n",
       "    <tr>\n",
       "      <th>25%</th>\n",
       "      <td>65.000000</td>\n",
       "      <td>1385.000000</td>\n",
       "      <td>1.235000e+09</td>\n",
       "      <td>1.916700e+07</td>\n",
       "      <td>1.000000</td>\n",
       "      <td>1.000000</td>\n",
       "      <td>1.000000</td>\n",
       "    </tr>\n",
       "    <tr>\n",
       "      <th>50%</th>\n",
       "      <td>87.000000</td>\n",
       "      <td>1392.000000</td>\n",
       "      <td>2.700000e+09</td>\n",
       "      <td>3.400000e+07</td>\n",
       "      <td>1.000000</td>\n",
       "      <td>1.000000</td>\n",
       "      <td>1.000000</td>\n",
       "    </tr>\n",
       "    <tr>\n",
       "      <th>75%</th>\n",
       "      <td>117.000000</td>\n",
       "      <td>1398.000000</td>\n",
       "      <td>5.547000e+09</td>\n",
       "      <td>5.149650e+07</td>\n",
       "      <td>1.000000</td>\n",
       "      <td>1.000000</td>\n",
       "      <td>1.000000</td>\n",
       "    </tr>\n",
       "    <tr>\n",
       "      <th>max</th>\n",
       "      <td>8200.000000</td>\n",
       "      <td>1400.000000</td>\n",
       "      <td>4.000000e+11</td>\n",
       "      <td>1.000000e+09</td>\n",
       "      <td>1.000000</td>\n",
       "      <td>1.000000</td>\n",
       "      <td>1.000000</td>\n",
       "    </tr>\n",
       "  </tbody>\n",
       "</table>\n",
       "</div>"
      ],
      "text/plain": [
       "               Area          Year         Price  Price per meter  \\\n",
       "count  11099.000000  11099.000000  1.109900e+04     1.109900e+04   \n",
       "mean      99.346067   1391.078476  4.795949e+09     3.909941e+07   \n",
       "std      101.421444      7.463570  9.350471e+09     3.311463e+07   \n",
       "min        3.000000   1370.000000  1.000000e+08     2.000000e+06   \n",
       "25%       65.000000   1385.000000  1.235000e+09     1.916700e+07   \n",
       "50%       87.000000   1392.000000  2.700000e+09     3.400000e+07   \n",
       "75%      117.000000   1398.000000  5.547000e+09     5.149650e+07   \n",
       "max     8200.000000   1400.000000  4.000000e+11     1.000000e+09   \n",
       "\n",
       "           Elevator       Parking     Warehouse  \n",
       "count  11099.000000  11099.000000  11099.000000  \n",
       "mean       0.756014      0.801604      0.894405  \n",
       "std        0.429504      0.398810      0.307333  \n",
       "min        0.000000      0.000000      0.000000  \n",
       "25%        1.000000      1.000000      1.000000  \n",
       "50%        1.000000      1.000000      1.000000  \n",
       "75%        1.000000      1.000000      1.000000  \n",
       "max        1.000000      1.000000      1.000000  "
      ]
     },
     "execution_count": 5,
     "metadata": {},
     "output_type": "execute_result"
    }
   ],
   "source": [
    "divar_df.describe()"
   ]
  },
  {
   "cell_type": "code",
   "execution_count": 6,
   "id": "d8e092a4",
   "metadata": {},
   "outputs": [
    {
     "data": {
      "text/plain": [
       "array([[<AxesSubplot:title={'center':'Area'}>,\n",
       "        <AxesSubplot:title={'center':'Year'}>,\n",
       "        <AxesSubplot:title={'center':'Price'}>],\n",
       "       [<AxesSubplot:title={'center':'Price per meter'}>,\n",
       "        <AxesSubplot:title={'center':'Elevator'}>,\n",
       "        <AxesSubplot:title={'center':'Parking'}>],\n",
       "       [<AxesSubplot:title={'center':'Warehouse'}>, <AxesSubplot:>,\n",
       "        <AxesSubplot:>]], dtype=object)"
      ]
     },
     "execution_count": 6,
     "metadata": {},
     "output_type": "execute_result"
    },
    {
     "data": {
      "image/png": "[encoded data removed]",
      "text/plain": [
       "<Figure size 720x720 with 9 Axes>"
      ]
     },
     "metadata": {
      "needs_background": "light"
     },
     "output_type": "display_data"
    }
   ],
   "source": [
    "divar_df.hist(bins=10, figsize=(10, 10))"
   ]
  },
  {
   "cell_type": "code",
   "execution_count": 7,
   "id": "6af7467b",
   "metadata": {},
   "outputs": [
    {
     "data": {
      "text/plain": [
       "<AxesSubplot:xlabel='Year', ylabel='Price'>"
      ]
     },
     "execution_count": 7,
     "metadata": {},
     "output_type": "execute_result"
    },
    {
     "data": {
      "image/png": "[encoded data removed]",
      "text/plain": [
       "<Figure size 720x648 with 1 Axes>"
      ]
     },
     "metadata": {
      "needs_background": "light"
     },
     "output_type": "display_data"
    }
   ],
   "source": [
    "plt.figure(figsize=(10,9))\n",
    "sns.boxenplot(x= 'Year', y ='Price', data=divar_df)"
   ]
  },
  {
   "cell_type": "code",
   "execution_count": 8,
   "id": "08db2049",
   "metadata": {},
   "outputs": [
    {
     "data": {
      "text/plain": [
       "Year\n",
       "1370    5.225381e+09\n",
       "1371    4.634643e+09\n",
       "1372    3.995741e+09\n",
       "1373    4.493960e+09\n",
       "1374    3.510556e+09\n",
       "1375    4.469608e+09\n",
       "1376    2.594146e+09\n",
       "1377    3.485135e+09\n",
       "1378    2.839494e+09\n",
       "1379    2.883333e+09\n",
       "1380    3.189966e+09\n",
       "1381    3.010637e+09\n",
       "1382    3.580822e+09\n",
       "1383    3.033305e+09\n",
       "1384    3.538959e+09\n",
       "1385    4.381561e+09\n",
       "1386    4.449348e+09\n",
       "1387    4.459904e+09\n",
       "1388    4.678192e+09\n",
       "1389    3.657226e+09\n",
       "1390    4.402288e+09\n",
       "1391    4.050401e+09\n",
       "1392    4.043726e+09\n",
       "1393    3.927745e+09\n",
       "1394    3.501945e+09\n",
       "1395    4.687229e+09\n",
       "1396    4.861858e+09\n",
       "1397    5.134332e+09\n",
       "1398    6.630941e+09\n",
       "1399    6.928284e+09\n",
       "1400    6.473231e+09\n",
       "Name: Price, dtype: float64"
      ]
     },
     "execution_count": 8,
     "metadata": {},
     "output_type": "execute_result"
    }
   ],
   "source": [
    "divar_df.groupby('Year').mean().Price"
   ]
  },
  {
   "cell_type": "code",
   "execution_count": 9,
   "id": "a2bde1b6",
   "metadata": {},
   "outputs": [
    {
     "data": {
      "text/plain": [
       "Parking\n",
       "0    1.375789e+09\n",
       "1    5.642436e+09\n",
       "Name: Price, dtype: float64"
      ]
     },
     "execution_count": 9,
     "metadata": {},
     "output_type": "execute_result"
    }
   ],
   "source": [
    "divar_df.groupby('Parking').mean().Price"
   ]
  },
  {
   "cell_type": "code",
   "execution_count": 10,
   "id": "10165205",
   "metadata": {
    "scrolled": true
   },
   "outputs": [
    {
     "data": {
      "text/plain": [
       "Elevator\n",
       "0    1.793295e+09\n",
       "1    5.764986e+09\n",
       "Name: Price, dtype: float64"
      ]
     },
     "execution_count": 10,
     "metadata": {},
     "output_type": "execute_result"
    }
   ],
   "source": [
    "divar_df.groupby('Elevator').mean().Price"
   ]
  },
  {
   "cell_type": "code",
   "execution_count": 11,
   "id": "f266ae8e",
   "metadata": {
    "scrolled": true
   },
   "outputs": [
    {
     "data": {
      "text/plain": [
       "Warehouse\n",
       "0    1.657501e+09\n",
       "1    5.166480e+09\n",
       "Name: Price, dtype: float64"
      ]
     },
     "execution_count": 11,
     "metadata": {},
     "output_type": "execute_result"
    }
   ],
   "source": [
    "divar_df.groupby('Warehouse').mean().Price"
   ]
  },
  {
   "cell_type": "code",
   "execution_count": 12,
   "id": "4bf8a6e3",
   "metadata": {},
   "outputs": [
    {
     "data": {
      "text/html": [
       "<div>\n",
       "<style scoped>\n",
       "    .dataframe tbody tr th:only-of-type {\n",
       "        vertical-align: middle;\n",
       "    }\n",
       "\n",
       "    .dataframe tbody tr th {\n",
       "        vertical-align: top;\n",
       "    }\n",
       "\n",
       "    .dataframe thead th {\n",
       "        text-align: right;\n",
       "    }\n",
       "</style>\n",
       "<table border=\"1\" class=\"dataframe\">\n",
       "  <thead>\n",
       "    <tr style=\"text-align: right;\">\n",
       "      <th></th>\n",
       "      <th>Address</th>\n",
       "      <th>Area</th>\n",
       "      <th>Year</th>\n",
       "      <th>Number Of Room</th>\n",
       "      <th>Price</th>\n",
       "      <th>Price per meter</th>\n",
       "      <th>Floor</th>\n",
       "      <th>Elevator</th>\n",
       "      <th>Parking</th>\n",
       "      <th>Warehouse</th>\n",
       "    </tr>\n",
       "  </thead>\n",
       "  <tbody>\n",
       "    <tr>\n",
       "      <th>0</th>\n",
       "      <td>کوی بیمه</td>\n",
       "      <td>105</td>\n",
       "      <td>1395</td>\n",
       "      <td>2</td>\n",
       "      <td>4100000000</td>\n",
       "      <td>39048000</td>\n",
       "      <td>4</td>\n",
       "      <td>1</td>\n",
       "      <td>1</td>\n",
       "      <td>1</td>\n",
       "    </tr>\n",
       "    <tr>\n",
       "      <th>1</th>\n",
       "      <td>فرمانیه</td>\n",
       "      <td>755</td>\n",
       "      <td>1398</td>\n",
       "      <td>4</td>\n",
       "      <td>150000000000</td>\n",
       "      <td>198675000</td>\n",
       "      <td>10</td>\n",
       "      <td>1</td>\n",
       "      <td>1</td>\n",
       "      <td>1</td>\n",
       "    </tr>\n",
       "    <tr>\n",
       "      <th>2</th>\n",
       "      <td>پونک</td>\n",
       "      <td>68</td>\n",
       "      <td>1381</td>\n",
       "      <td>2</td>\n",
       "      <td>2460000000</td>\n",
       "      <td>36176000</td>\n",
       "      <td>1</td>\n",
       "      <td>0</td>\n",
       "      <td>1</td>\n",
       "      <td>1</td>\n",
       "    </tr>\n",
       "    <tr>\n",
       "      <th>3</th>\n",
       "      <td>کوی بیمه</td>\n",
       "      <td>88</td>\n",
       "      <td>1396</td>\n",
       "      <td>2</td>\n",
       "      <td>3200000000</td>\n",
       "      <td>36364000</td>\n",
       "      <td>5</td>\n",
       "      <td>1</td>\n",
       "      <td>1</td>\n",
       "      <td>1</td>\n",
       "    </tr>\n",
       "    <tr>\n",
       "      <th>4</th>\n",
       "      <td>پردیس</td>\n",
       "      <td>135</td>\n",
       "      <td>1398</td>\n",
       "      <td>3</td>\n",
       "      <td>2500000000</td>\n",
       "      <td>18519000</td>\n",
       "      <td>0</td>\n",
       "      <td>1</td>\n",
       "      <td>1</td>\n",
       "      <td>1</td>\n",
       "    </tr>\n",
       "  </tbody>\n",
       "</table>\n",
       "</div>"
      ],
      "text/plain": [
       "    Address  Area  Year Number Of Room         Price  Price per meter Floor  \\\n",
       "0  کوی بیمه   105  1395              2    4100000000         39048000     4   \n",
       "1   فرمانیه   755  1398              4  150000000000        198675000    10   \n",
       "2      پونک    68  1381              2    2460000000         36176000     1   \n",
       "3  کوی بیمه    88  1396              2    3200000000         36364000     5   \n",
       "4     پردیس   135  1398              3    2500000000         18519000     0   \n",
       "\n",
       "   Elevator  Parking  Warehouse  \n",
       "0         1        1          1  \n",
       "1         1        1          1  \n",
       "2         0        1          1  \n",
       "3         1        1          1  \n",
       "4         1        1          1  "
      ]
     },
     "execution_count": 12,
     "metadata": {},
     "output_type": "execute_result"
    }
   ],
   "source": [
    "divar_df.head()"
   ]
  },
  {
   "cell_type": "code",
   "execution_count": 13,
   "id": "44cb61df",
   "metadata": {},
   "outputs": [],
   "source": [
    "from sklearn import preprocessing\n",
    "le = preprocessing.LabelEncoder()\n",
    "le.fit(divar_df['Address'])\n",
    "divar_df['Address'] = le.transform(divar_df['Address'])"
   ]
  },
  {
   "cell_type": "code",
   "execution_count": 48,
   "id": "70510753",
   "metadata": {},
   "outputs": [],
   "source": [
    "from sklearn.model_selection import train_test_split\n",
    "X = divar_df.drop(['Price'], axis=1)\n",
    "y = divar_df['Price']\n",
    "X_train, X_test, y_train, y_test = train_test_split(X, y, test_size=0.3, random_state=100)"
   ]
  },
  {
   "cell_type": "code",
   "execution_count": 49,
   "id": "f307e962",
   "metadata": {},
   "outputs": [],
   "source": [
    "from sklearn.linear_model import LinearRegression"
   ]
  },
  {
   "cell_type": "code",
   "execution_count": 50,
   "id": "9ab5068d",
   "metadata": {},
   "outputs": [],
   "source": [
    "lm_classifier = LinearRegression()"
   ]
  },
  {
   "cell_type": "code",
   "execution_count": 51,
   "id": "eee48c65",
   "metadata": {},
   "outputs": [
    {
     "data": {
      "text/plain": [
       "LinearRegression()"
      ]
     },
     "execution_count": 51,
     "metadata": {},
     "output_type": "execute_result"
    }
   ],
   "source": [
    "lm_classifier.fit(X_train, y_train)"
   ]
  },
  {
   "cell_type": "code",
   "execution_count": 52,
   "id": "e494c65f",
   "metadata": {},
   "outputs": [],
   "source": [
    "y_predict = lm_classifier.predict(X_test)"
   ]
  },
  {
   "cell_type": "code",
   "execution_count": 53,
   "id": "ca6a9351",
   "metadata": {},
   "outputs": [
    {
     "data": {
      "text/plain": [
       "0.84230692498069"
      ]
     },
     "execution_count": 53,
     "metadata": {},
     "output_type": "execute_result"
    }
   ],
   "source": [
    "from sklearn.metrics import r2_score\n",
    "r2_score(y_test, y_predict)"
   ]
  }
 ],
 "metadata": {
  "kernelspec": {
   "display_name": "Python 3 (ipykernel)",
   "language": "python",
   "name": "python3"
  },
  "language_info": {
   "codemirror_mode": {
    "name": "ipython",
    "version": 3
   },
   "file_extension": ".py",
   "mimetype": "text/x-python",
   "name": "python",
   "nbconvert_exporter": "python",
   "pygments_lexer": "ipython3",
   "version": "3.8.10"
  }
 },
 "nbformat": 4,
 "nbformat_minor": 5
}
